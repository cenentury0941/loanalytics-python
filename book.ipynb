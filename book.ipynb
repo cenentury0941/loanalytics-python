{
 "cells": [
  {
   "cell_type": "code",
   "execution_count": 1,
   "id": "42342e65",
   "metadata": {
    "_cell_guid": "b1076dfc-b9ad-4769-8c92-a6c4dae69d19",
    "_uuid": "8f2839f25d086af736a60e9eeb907d3b93b6e0e5",
    "execution": {
     "iopub.execute_input": "2022-03-21T08:40:39.009148Z",
     "iopub.status.busy": "2022-03-21T08:40:39.008038Z",
     "iopub.status.idle": "2022-03-21T08:40:40.022530Z",
     "shell.execute_reply": "2022-03-21T08:40:40.023048Z",
     "shell.execute_reply.started": "2022-03-21T08:27:03.790593Z"
    },
    "papermill": {
     "duration": 1.051832,
     "end_time": "2022-03-21T08:40:40.023369",
     "exception": false,
     "start_time": "2022-03-21T08:40:38.971537",
     "status": "completed"
    },
    "tags": []
   },
   "outputs": [
    {
     "name": "stdout",
     "output_type": "stream",
     "text": [
      "/kaggle/input/loan-prediction-based-on-customer-behavior/Test Data.csv\n",
      "/kaggle/input/loan-prediction-based-on-customer-behavior/Training Data.csv\n",
      "/kaggle/input/loan-prediction-based-on-customer-behavior/Sample Prediction Dataset.csv\n"
     ]
    }
   ],
   "source": [
    "import numpy as np # linear algebra\n",
    "import pandas as pd # data processing, CSV file I/O (e.g. pd.read_csv)\n",
    "\n",
    "\n",
    "\n",
    "import os\n",
    "for dirname, _, filenames in os.walk('/kaggle/input'):\n",
    "    for filename in filenames:\n",
    "        print(os.path.join(dirname, filename))\n",
    "\n",
    "import matplotlib.pyplot as plt\n",
    "import seaborn as sns\n",
    "%matplotlib inline\n",
    "\n",
    "sns.set_theme(style = \"darkgrid\")"
   ]
  },
  {
   "cell_type": "code",
   "execution_count": 2,
   "id": "19104cc7",
   "metadata": {
    "execution": {
     "iopub.execute_input": "2022-03-21T08:40:40.117918Z",
     "iopub.status.busy": "2022-03-21T08:40:40.116929Z",
     "iopub.status.idle": "2022-03-21T08:40:40.724773Z",
     "shell.execute_reply": "2022-03-21T08:40:40.725247Z",
     "shell.execute_reply.started": "2022-03-21T08:27:03.805252Z"
    },
    "papermill": {
     "duration": 0.658058,
     "end_time": "2022-03-21T08:40:40.725438",
     "exception": false,
     "start_time": "2022-03-21T08:40:40.067380",
     "status": "completed"
    },
    "tags": []
   },
   "outputs": [
    {
     "data": {
      "text/html": [
       "<div>\n",
       "<style scoped>\n",
       "    .dataframe tbody tr th:only-of-type {\n",
       "        vertical-align: middle;\n",
       "    }\n",
       "\n",
       "    .dataframe tbody tr th {\n",
       "        vertical-align: top;\n",
       "    }\n",
       "\n",
       "    .dataframe thead th {\n",
       "        text-align: right;\n",
       "    }\n",
       "</style>\n",
       "<table border=\"1\" class=\"dataframe\">\n",
       "  <thead>\n",
       "    <tr style=\"text-align: right;\">\n",
       "      <th></th>\n",
       "      <th>Id</th>\n",
       "      <th>Income</th>\n",
       "      <th>Age</th>\n",
       "      <th>Experience</th>\n",
       "      <th>Married/Single</th>\n",
       "      <th>House_Ownership</th>\n",
       "      <th>Car_Ownership</th>\n",
       "      <th>Profession</th>\n",
       "      <th>CITY</th>\n",
       "      <th>STATE</th>\n",
       "      <th>CURRENT_JOB_YRS</th>\n",
       "      <th>CURRENT_HOUSE_YRS</th>\n",
       "      <th>Risk_Flag</th>\n",
       "    </tr>\n",
       "  </thead>\n",
       "  <tbody>\n",
       "    <tr>\n",
       "      <th>0</th>\n",
       "      <td>1</td>\n",
       "      <td>1303834</td>\n",
       "      <td>23</td>\n",
       "      <td>3</td>\n",
       "      <td>single</td>\n",
       "      <td>rented</td>\n",
       "      <td>no</td>\n",
       "      <td>Mechanical_engineer</td>\n",
       "      <td>Rewa</td>\n",
       "      <td>Madhya_Pradesh</td>\n",
       "      <td>3</td>\n",
       "      <td>13</td>\n",
       "      <td>0</td>\n",
       "    </tr>\n",
       "    <tr>\n",
       "      <th>1</th>\n",
       "      <td>2</td>\n",
       "      <td>7574516</td>\n",
       "      <td>40</td>\n",
       "      <td>10</td>\n",
       "      <td>single</td>\n",
       "      <td>rented</td>\n",
       "      <td>no</td>\n",
       "      <td>Software_Developer</td>\n",
       "      <td>Parbhani</td>\n",
       "      <td>Maharashtra</td>\n",
       "      <td>9</td>\n",
       "      <td>13</td>\n",
       "      <td>0</td>\n",
       "    </tr>\n",
       "    <tr>\n",
       "      <th>2</th>\n",
       "      <td>3</td>\n",
       "      <td>3991815</td>\n",
       "      <td>66</td>\n",
       "      <td>4</td>\n",
       "      <td>married</td>\n",
       "      <td>rented</td>\n",
       "      <td>no</td>\n",
       "      <td>Technical_writer</td>\n",
       "      <td>Alappuzha</td>\n",
       "      <td>Kerala</td>\n",
       "      <td>4</td>\n",
       "      <td>10</td>\n",
       "      <td>0</td>\n",
       "    </tr>\n",
       "    <tr>\n",
       "      <th>3</th>\n",
       "      <td>4</td>\n",
       "      <td>6256451</td>\n",
       "      <td>41</td>\n",
       "      <td>2</td>\n",
       "      <td>single</td>\n",
       "      <td>rented</td>\n",
       "      <td>yes</td>\n",
       "      <td>Software_Developer</td>\n",
       "      <td>Bhubaneswar</td>\n",
       "      <td>Odisha</td>\n",
       "      <td>2</td>\n",
       "      <td>12</td>\n",
       "      <td>1</td>\n",
       "    </tr>\n",
       "    <tr>\n",
       "      <th>4</th>\n",
       "      <td>5</td>\n",
       "      <td>5768871</td>\n",
       "      <td>47</td>\n",
       "      <td>11</td>\n",
       "      <td>single</td>\n",
       "      <td>rented</td>\n",
       "      <td>no</td>\n",
       "      <td>Civil_servant</td>\n",
       "      <td>Tiruchirappalli[10]</td>\n",
       "      <td>Tamil_Nadu</td>\n",
       "      <td>3</td>\n",
       "      <td>14</td>\n",
       "      <td>1</td>\n",
       "    </tr>\n",
       "  </tbody>\n",
       "</table>\n",
       "</div>"
      ],
      "text/plain": [
       "   Id   Income  Age  Experience Married/Single House_Ownership Car_Ownership  \\\n",
       "0   1  1303834   23           3         single          rented            no   \n",
       "1   2  7574516   40          10         single          rented            no   \n",
       "2   3  3991815   66           4        married          rented            no   \n",
       "3   4  6256451   41           2         single          rented           yes   \n",
       "4   5  5768871   47          11         single          rented            no   \n",
       "\n",
       "            Profession                 CITY           STATE  CURRENT_JOB_YRS  \\\n",
       "0  Mechanical_engineer                 Rewa  Madhya_Pradesh                3   \n",
       "1   Software_Developer             Parbhani     Maharashtra                9   \n",
       "2     Technical_writer            Alappuzha          Kerala                4   \n",
       "3   Software_Developer          Bhubaneswar          Odisha                2   \n",
       "4        Civil_servant  Tiruchirappalli[10]      Tamil_Nadu                3   \n",
       "\n",
       "   CURRENT_HOUSE_YRS  Risk_Flag  \n",
       "0                 13          0  \n",
       "1                 13          0  \n",
       "2                 10          0  \n",
       "3                 12          1  \n",
       "4                 14          1  "
      ]
     },
     "execution_count": 2,
     "metadata": {},
     "output_type": "execute_result"
    }
   ],
   "source": [
    "data = pd.read_csv(\"/kaggle/input/loan-prediction-based-on-customer-behavior/Training Data.csv\")\n",
    "data.head()"
   ]
  },
  {
   "cell_type": "markdown",
   "id": "5b592a51",
   "metadata": {
    "papermill": {
     "duration": 0.03496,
     "end_time": "2022-03-21T08:40:40.794842",
     "exception": false,
     "start_time": "2022-03-21T08:40:40.759882",
     "status": "completed"
    },
    "tags": []
   },
   "source": [
    "# Understanding the data set"
   ]
  },
  {
   "cell_type": "code",
   "execution_count": 3,
   "id": "7ee3471e",
   "metadata": {
    "execution": {
     "iopub.execute_input": "2022-03-21T08:40:40.865119Z",
     "iopub.status.busy": "2022-03-21T08:40:40.864521Z",
     "iopub.status.idle": "2022-03-21T08:40:40.869492Z",
     "shell.execute_reply": "2022-03-21T08:40:40.869952Z",
     "shell.execute_reply.started": "2022-03-21T08:27:04.253200Z"
    },
    "papermill": {
     "duration": 0.041225,
     "end_time": "2022-03-21T08:40:40.870131",
     "exception": false,
     "start_time": "2022-03-21T08:40:40.828906",
     "status": "completed"
    },
    "tags": []
   },
   "outputs": [
    {
     "name": "stdout",
     "output_type": "stream",
     "text": [
      "Rows: 252000\n",
      "Columns: 13\n"
     ]
    }
   ],
   "source": [
    "rows, columns = data.shape\n",
    "print('Rows:', rows)\n",
    "print('Columns:', columns)"
   ]
  },
  {
   "cell_type": "code",
   "execution_count": 4,
   "id": "c043c81f",
   "metadata": {
    "execution": {
     "iopub.execute_input": "2022-03-21T08:40:40.939973Z",
     "iopub.status.busy": "2022-03-21T08:40:40.939295Z",
     "iopub.status.idle": "2022-03-21T08:40:41.026067Z",
     "shell.execute_reply": "2022-03-21T08:40:41.026535Z",
     "shell.execute_reply.started": "2022-03-21T08:27:04.260854Z"
    },
    "papermill": {
     "duration": 0.123378,
     "end_time": "2022-03-21T08:40:41.026698",
     "exception": false,
     "start_time": "2022-03-21T08:40:40.903320",
     "status": "completed"
    },
    "tags": []
   },
   "outputs": [
    {
     "name": "stdout",
     "output_type": "stream",
     "text": [
      "<class 'pandas.core.frame.DataFrame'>\n",
      "RangeIndex: 252000 entries, 0 to 251999\n",
      "Data columns (total 13 columns):\n",
      " #   Column             Non-Null Count   Dtype \n",
      "---  ------             --------------   ----- \n",
      " 0   Id                 252000 non-null  int64 \n",
      " 1   Income             252000 non-null  int64 \n",
      " 2   Age                252000 non-null  int64 \n",
      " 3   Experience         252000 non-null  int64 \n",
      " 4   Married/Single     252000 non-null  object\n",
      " 5   House_Ownership    252000 non-null  object\n",
      " 6   Car_Ownership      252000 non-null  object\n",
      " 7   Profession         252000 non-null  object\n",
      " 8   CITY               252000 non-null  object\n",
      " 9   STATE              252000 non-null  object\n",
      " 10  CURRENT_JOB_YRS    252000 non-null  int64 \n",
      " 11  CURRENT_HOUSE_YRS  252000 non-null  int64 \n",
      " 12  Risk_Flag          252000 non-null  int64 \n",
      "dtypes: int64(7), object(6)\n",
      "memory usage: 25.0+ MB\n"
     ]
    }
   ],
   "source": [
    "data.info()"
   ]
  },
  {
   "cell_type": "code",
   "execution_count": 5,
   "id": "9b1aee96",
   "metadata": {
    "execution": {
     "iopub.execute_input": "2022-03-21T08:40:41.098700Z",
     "iopub.status.busy": "2022-03-21T08:40:41.098060Z",
     "iopub.status.idle": "2022-03-21T08:40:41.170331Z",
     "shell.execute_reply": "2022-03-21T08:40:41.169676Z",
     "shell.execute_reply.started": "2022-03-21T08:27:04.443598Z"
    },
    "papermill": {
     "duration": 0.109372,
     "end_time": "2022-03-21T08:40:41.170522",
     "exception": false,
     "start_time": "2022-03-21T08:40:41.061150",
     "status": "completed"
    },
    "tags": []
   },
   "outputs": [
    {
     "data": {
      "text/plain": [
       "Id                   0\n",
       "Income               0\n",
       "Age                  0\n",
       "Experience           0\n",
       "Married/Single       0\n",
       "House_Ownership      0\n",
       "Car_Ownership        0\n",
       "Profession           0\n",
       "CITY                 0\n",
       "STATE                0\n",
       "CURRENT_JOB_YRS      0\n",
       "CURRENT_HOUSE_YRS    0\n",
       "Risk_Flag            0\n",
       "dtype: int64"
      ]
     },
     "execution_count": 5,
     "metadata": {},
     "output_type": "execute_result"
    }
   ],
   "source": [
    "data.isnull().sum()"
   ]
  },
  {
   "cell_type": "code",
   "execution_count": 6,
   "id": "ecbaeab0",
   "metadata": {
    "execution": {
     "iopub.execute_input": "2022-03-21T08:40:41.246181Z",
     "iopub.status.busy": "2022-03-21T08:40:41.245423Z",
     "iopub.status.idle": "2022-03-21T08:40:41.249464Z",
     "shell.execute_reply": "2022-03-21T08:40:41.248861Z",
     "shell.execute_reply.started": "2022-03-21T08:27:04.614756Z"
    },
    "papermill": {
     "duration": 0.044166,
     "end_time": "2022-03-21T08:40:41.249608",
     "exception": false,
     "start_time": "2022-03-21T08:40:41.205442",
     "status": "completed"
    },
    "tags": []
   },
   "outputs": [
    {
     "data": {
      "text/plain": [
       "Index(['Id', 'Income', 'Age', 'Experience', 'Married/Single',\n",
       "       'House_Ownership', 'Car_Ownership', 'Profession', 'CITY', 'STATE',\n",
       "       'CURRENT_JOB_YRS', 'CURRENT_HOUSE_YRS', 'Risk_Flag'],\n",
       "      dtype='object')"
      ]
     },
     "execution_count": 6,
     "metadata": {},
     "output_type": "execute_result"
    }
   ],
   "source": [
    "data.columns"
   ]
  },
  {
   "cell_type": "markdown",
   "id": "36914716",
   "metadata": {
    "papermill": {
     "duration": 0.034249,
     "end_time": "2022-03-21T08:40:41.317939",
     "exception": false,
     "start_time": "2022-03-21T08:40:41.283690",
     "status": "completed"
    },
    "tags": []
   },
   "source": [
    "# Analysing Numerical columns"
   ]
  },
  {
   "cell_type": "code",
   "execution_count": 7,
   "id": "fd8a0648",
   "metadata": {
    "execution": {
     "iopub.execute_input": "2022-03-21T08:40:41.400880Z",
     "iopub.status.busy": "2022-03-21T08:40:41.400251Z",
     "iopub.status.idle": "2022-03-21T08:40:41.473776Z",
     "shell.execute_reply": "2022-03-21T08:40:41.473264Z",
     "shell.execute_reply.started": "2022-03-21T08:27:04.622319Z"
    },
    "papermill": {
     "duration": 0.121695,
     "end_time": "2022-03-21T08:40:41.473920",
     "exception": false,
     "start_time": "2022-03-21T08:40:41.352225",
     "status": "completed"
    },
    "tags": []
   },
   "outputs": [
    {
     "data": {
      "text/html": [
       "<div>\n",
       "<style scoped>\n",
       "    .dataframe tbody tr th:only-of-type {\n",
       "        vertical-align: middle;\n",
       "    }\n",
       "\n",
       "    .dataframe tbody tr th {\n",
       "        vertical-align: top;\n",
       "    }\n",
       "\n",
       "    .dataframe thead th {\n",
       "        text-align: right;\n",
       "    }\n",
       "</style>\n",
       "<table border=\"1\" class=\"dataframe\">\n",
       "  <thead>\n",
       "    <tr style=\"text-align: right;\">\n",
       "      <th></th>\n",
       "      <th>Id</th>\n",
       "      <th>Income</th>\n",
       "      <th>Age</th>\n",
       "      <th>Experience</th>\n",
       "      <th>CURRENT_JOB_YRS</th>\n",
       "      <th>CURRENT_HOUSE_YRS</th>\n",
       "      <th>Risk_Flag</th>\n",
       "    </tr>\n",
       "  </thead>\n",
       "  <tbody>\n",
       "    <tr>\n",
       "      <th>count</th>\n",
       "      <td>252000.000000</td>\n",
       "      <td>2.520000e+05</td>\n",
       "      <td>252000.000000</td>\n",
       "      <td>252000.000000</td>\n",
       "      <td>252000.000000</td>\n",
       "      <td>252000.000000</td>\n",
       "      <td>252000.000000</td>\n",
       "    </tr>\n",
       "    <tr>\n",
       "      <th>mean</th>\n",
       "      <td>126000.500000</td>\n",
       "      <td>4.997117e+06</td>\n",
       "      <td>49.954071</td>\n",
       "      <td>10.084437</td>\n",
       "      <td>6.333877</td>\n",
       "      <td>11.997794</td>\n",
       "      <td>0.123000</td>\n",
       "    </tr>\n",
       "    <tr>\n",
       "      <th>std</th>\n",
       "      <td>72746.278255</td>\n",
       "      <td>2.878311e+06</td>\n",
       "      <td>17.063855</td>\n",
       "      <td>6.002590</td>\n",
       "      <td>3.647053</td>\n",
       "      <td>1.399037</td>\n",
       "      <td>0.328438</td>\n",
       "    </tr>\n",
       "    <tr>\n",
       "      <th>min</th>\n",
       "      <td>1.000000</td>\n",
       "      <td>1.031000e+04</td>\n",
       "      <td>21.000000</td>\n",
       "      <td>0.000000</td>\n",
       "      <td>0.000000</td>\n",
       "      <td>10.000000</td>\n",
       "      <td>0.000000</td>\n",
       "    </tr>\n",
       "    <tr>\n",
       "      <th>25%</th>\n",
       "      <td>63000.750000</td>\n",
       "      <td>2.503015e+06</td>\n",
       "      <td>35.000000</td>\n",
       "      <td>5.000000</td>\n",
       "      <td>3.000000</td>\n",
       "      <td>11.000000</td>\n",
       "      <td>0.000000</td>\n",
       "    </tr>\n",
       "    <tr>\n",
       "      <th>50%</th>\n",
       "      <td>126000.500000</td>\n",
       "      <td>5.000694e+06</td>\n",
       "      <td>50.000000</td>\n",
       "      <td>10.000000</td>\n",
       "      <td>6.000000</td>\n",
       "      <td>12.000000</td>\n",
       "      <td>0.000000</td>\n",
       "    </tr>\n",
       "    <tr>\n",
       "      <th>75%</th>\n",
       "      <td>189000.250000</td>\n",
       "      <td>7.477502e+06</td>\n",
       "      <td>65.000000</td>\n",
       "      <td>15.000000</td>\n",
       "      <td>9.000000</td>\n",
       "      <td>13.000000</td>\n",
       "      <td>0.000000</td>\n",
       "    </tr>\n",
       "    <tr>\n",
       "      <th>max</th>\n",
       "      <td>252000.000000</td>\n",
       "      <td>9.999938e+06</td>\n",
       "      <td>79.000000</td>\n",
       "      <td>20.000000</td>\n",
       "      <td>14.000000</td>\n",
       "      <td>14.000000</td>\n",
       "      <td>1.000000</td>\n",
       "    </tr>\n",
       "  </tbody>\n",
       "</table>\n",
       "</div>"
      ],
      "text/plain": [
       "                  Id        Income            Age     Experience  \\\n",
       "count  252000.000000  2.520000e+05  252000.000000  252000.000000   \n",
       "mean   126000.500000  4.997117e+06      49.954071      10.084437   \n",
       "std     72746.278255  2.878311e+06      17.063855       6.002590   \n",
       "min         1.000000  1.031000e+04      21.000000       0.000000   \n",
       "25%     63000.750000  2.503015e+06      35.000000       5.000000   \n",
       "50%    126000.500000  5.000694e+06      50.000000      10.000000   \n",
       "75%    189000.250000  7.477502e+06      65.000000      15.000000   \n",
       "max    252000.000000  9.999938e+06      79.000000      20.000000   \n",
       "\n",
       "       CURRENT_JOB_YRS  CURRENT_HOUSE_YRS      Risk_Flag  \n",
       "count    252000.000000      252000.000000  252000.000000  \n",
       "mean          6.333877          11.997794       0.123000  \n",
       "std           3.647053           1.399037       0.328438  \n",
       "min           0.000000          10.000000       0.000000  \n",
       "25%           3.000000          11.000000       0.000000  \n",
       "50%           6.000000          12.000000       0.000000  \n",
       "75%           9.000000          13.000000       0.000000  \n",
       "max          14.000000          14.000000       1.000000  "
      ]
     },
     "execution_count": 7,
     "metadata": {},
     "output_type": "execute_result"
    }
   ],
   "source": [
    "data.describe()"
   ]
  },
  {
   "cell_type": "code",
   "execution_count": 8,
   "id": "b779732b",
   "metadata": {
    "execution": {
     "iopub.execute_input": "2022-03-21T08:40:41.545715Z",
     "iopub.status.busy": "2022-03-21T08:40:41.545083Z",
     "iopub.status.idle": "2022-03-21T08:40:41.613176Z",
     "shell.execute_reply": "2022-03-21T08:40:41.612688Z",
     "shell.execute_reply.started": "2022-03-21T08:27:04.705902Z"
    },
    "papermill": {
     "duration": 0.104937,
     "end_time": "2022-03-21T08:40:41.613308",
     "exception": false,
     "start_time": "2022-03-21T08:40:41.508371",
     "status": "completed"
    },
    "tags": []
   },
   "outputs": [
    {
     "data": {
      "text/html": [
       "<div>\n",
       "<style scoped>\n",
       "    .dataframe tbody tr th:only-of-type {\n",
       "        vertical-align: middle;\n",
       "    }\n",
       "\n",
       "    .dataframe tbody tr th {\n",
       "        vertical-align: top;\n",
       "    }\n",
       "\n",
       "    .dataframe thead th {\n",
       "        text-align: right;\n",
       "    }\n",
       "</style>\n",
       "<table border=\"1\" class=\"dataframe\">\n",
       "  <thead>\n",
       "    <tr style=\"text-align: right;\">\n",
       "      <th></th>\n",
       "      <th>Id</th>\n",
       "      <th>Income</th>\n",
       "      <th>Age</th>\n",
       "      <th>Experience</th>\n",
       "      <th>CURRENT_JOB_YRS</th>\n",
       "      <th>CURRENT_HOUSE_YRS</th>\n",
       "      <th>Risk_Flag</th>\n",
       "    </tr>\n",
       "  </thead>\n",
       "  <tbody>\n",
       "    <tr>\n",
       "      <th>Id</th>\n",
       "      <td>1.000000</td>\n",
       "      <td>-0.001324</td>\n",
       "      <td>-0.001816</td>\n",
       "      <td>-0.005810</td>\n",
       "      <td>-0.003250</td>\n",
       "      <td>0.001972</td>\n",
       "      <td>0.032153</td>\n",
       "    </tr>\n",
       "    <tr>\n",
       "      <th>Income</th>\n",
       "      <td>-0.001324</td>\n",
       "      <td>1.000000</td>\n",
       "      <td>-0.000652</td>\n",
       "      <td>0.006422</td>\n",
       "      <td>0.007045</td>\n",
       "      <td>-0.002397</td>\n",
       "      <td>-0.003091</td>\n",
       "    </tr>\n",
       "    <tr>\n",
       "      <th>Age</th>\n",
       "      <td>-0.001816</td>\n",
       "      <td>-0.000652</td>\n",
       "      <td>1.000000</td>\n",
       "      <td>-0.001118</td>\n",
       "      <td>0.002154</td>\n",
       "      <td>-0.020134</td>\n",
       "      <td>-0.021809</td>\n",
       "    </tr>\n",
       "    <tr>\n",
       "      <th>Experience</th>\n",
       "      <td>-0.005810</td>\n",
       "      <td>0.006422</td>\n",
       "      <td>-0.001118</td>\n",
       "      <td>1.000000</td>\n",
       "      <td>0.646098</td>\n",
       "      <td>0.019309</td>\n",
       "      <td>-0.034523</td>\n",
       "    </tr>\n",
       "    <tr>\n",
       "      <th>CURRENT_JOB_YRS</th>\n",
       "      <td>-0.003250</td>\n",
       "      <td>0.007045</td>\n",
       "      <td>0.002154</td>\n",
       "      <td>0.646098</td>\n",
       "      <td>1.000000</td>\n",
       "      <td>0.005372</td>\n",
       "      <td>-0.016942</td>\n",
       "    </tr>\n",
       "    <tr>\n",
       "      <th>CURRENT_HOUSE_YRS</th>\n",
       "      <td>0.001972</td>\n",
       "      <td>-0.002397</td>\n",
       "      <td>-0.020134</td>\n",
       "      <td>0.019309</td>\n",
       "      <td>0.005372</td>\n",
       "      <td>1.000000</td>\n",
       "      <td>-0.004375</td>\n",
       "    </tr>\n",
       "    <tr>\n",
       "      <th>Risk_Flag</th>\n",
       "      <td>0.032153</td>\n",
       "      <td>-0.003091</td>\n",
       "      <td>-0.021809</td>\n",
       "      <td>-0.034523</td>\n",
       "      <td>-0.016942</td>\n",
       "      <td>-0.004375</td>\n",
       "      <td>1.000000</td>\n",
       "    </tr>\n",
       "  </tbody>\n",
       "</table>\n",
       "</div>"
      ],
      "text/plain": [
       "                         Id    Income       Age  Experience  CURRENT_JOB_YRS  \\\n",
       "Id                 1.000000 -0.001324 -0.001816   -0.005810        -0.003250   \n",
       "Income            -0.001324  1.000000 -0.000652    0.006422         0.007045   \n",
       "Age               -0.001816 -0.000652  1.000000   -0.001118         0.002154   \n",
       "Experience        -0.005810  0.006422 -0.001118    1.000000         0.646098   \n",
       "CURRENT_JOB_YRS   -0.003250  0.007045  0.002154    0.646098         1.000000   \n",
       "CURRENT_HOUSE_YRS  0.001972 -0.002397 -0.020134    0.019309         0.005372   \n",
       "Risk_Flag          0.032153 -0.003091 -0.021809   -0.034523        -0.016942   \n",
       "\n",
       "                   CURRENT_HOUSE_YRS  Risk_Flag  \n",
       "Id                          0.001972   0.032153  \n",
       "Income                     -0.002397  -0.003091  \n",
       "Age                        -0.020134  -0.021809  \n",
       "Experience                  0.019309  -0.034523  \n",
       "CURRENT_JOB_YRS             0.005372  -0.016942  \n",
       "CURRENT_HOUSE_YRS           1.000000  -0.004375  \n",
       "Risk_Flag                  -0.004375   1.000000  "
      ]
     },
     "execution_count": 8,
     "metadata": {},
     "output_type": "execute_result"
    }
   ],
   "source": [
    "data.corr()"
   ]
  },
  {
   "cell_type": "code",
   "execution_count": 9,
   "id": "834fb323",
   "metadata": {
    "execution": {
     "iopub.execute_input": "2022-03-21T08:40:41.686827Z",
     "iopub.status.busy": "2022-03-21T08:40:41.686170Z",
     "iopub.status.idle": "2022-03-21T08:40:43.139651Z",
     "shell.execute_reply": "2022-03-21T08:40:43.140163Z",
     "shell.execute_reply.started": "2022-03-21T08:27:04.771188Z"
    },
    "papermill": {
     "duration": 1.491815,
     "end_time": "2022-03-21T08:40:43.140331",
     "exception": false,
     "start_time": "2022-03-21T08:40:41.648516",
     "status": "completed"
    },
    "tags": []
   },
   "outputs": [
    {
     "data": {
      "image/png": "[encoded data removed]",
      "text/plain": [
       "<Figure size 1584x1440 with 9 Axes>"
      ]
     },
     "metadata": {},
     "output_type": "display_data"
    }
   ],
   "source": [
    "data.hist( figsize = (22, 20) )\n",
    "plt.show()"
   ]
  },
  {
   "cell_type": "code",
   "execution_count": 10,
   "id": "82ee2550",
   "metadata": {
    "execution": {
     "iopub.execute_input": "2022-03-21T08:40:43.218271Z",
     "iopub.status.busy": "2022-03-21T08:40:43.217673Z",
     "iopub.status.idle": "2022-03-21T08:40:43.225196Z",
     "shell.execute_reply": "2022-03-21T08:40:43.225773Z",
     "shell.execute_reply.started": "2022-03-21T08:27:06.440714Z"
    },
    "papermill": {
     "duration": 0.047303,
     "end_time": "2022-03-21T08:40:43.225936",
     "exception": false,
     "start_time": "2022-03-21T08:40:43.178633",
     "status": "completed"
    },
    "tags": []
   },
   "outputs": [
    {
     "data": {
      "text/plain": [
       "0    221004\n",
       "1     30996\n",
       "Name: Risk_Flag, dtype: int64"
      ]
     },
     "execution_count": 10,
     "metadata": {},
     "output_type": "execute_result"
    }
   ],
   "source": [
    "data[\"Risk_Flag\"].value_counts()"
   ]
  },
  {
   "cell_type": "code",
   "execution_count": 11,
   "id": "5c469857",
   "metadata": {
    "execution": {
     "iopub.execute_input": "2022-03-21T08:40:43.319493Z",
     "iopub.status.busy": "2022-03-21T08:40:43.318474Z",
     "iopub.status.idle": "2022-03-21T08:40:43.854330Z",
     "shell.execute_reply": "2022-03-21T08:40:43.854759Z",
     "shell.execute_reply.started": "2022-03-21T08:27:06.450582Z"
    },
    "papermill": {
     "duration": 0.59181,
     "end_time": "2022-03-21T08:40:43.854928",
     "exception": false,
     "start_time": "2022-03-21T08:40:43.263118",
     "status": "completed"
    },
    "tags": []
   },
   "outputs": [
    {
     "data": {
      "image/png": "[encoded data removed]",
      "text/plain": [
       "<Figure size 864x576 with 2 Axes>"
      ]
     },
     "metadata": {},
     "output_type": "display_data"
    }
   ],
   "source": [
    "fig, ax = plt.subplots( figsize = (12,8) )\n",
    "\n",
    "corr_matrix = data.corr()\n",
    "corr_heatmap = sns.heatmap( corr_matrix, cmap = \"flare\", annot=True, ax=ax, annot_kws={\"size\": 14})\n",
    "\n",
    "plt.show()"
   ]
  },
  {
   "cell_type": "markdown",
   "id": "551f4ee9",
   "metadata": {
    "papermill": {
     "duration": 0.038936,
     "end_time": "2022-03-21T08:40:43.933479",
     "exception": false,
     "start_time": "2022-03-21T08:40:43.894543",
     "status": "completed"
    },
    "tags": []
   },
   "source": [
    "# Analysing the Categorical features"
   ]
  },
  {
   "cell_type": "code",
   "execution_count": 12,
   "id": "3c96d59a",
   "metadata": {
    "execution": {
     "iopub.execute_input": "2022-03-21T08:40:44.017014Z",
     "iopub.status.busy": "2022-03-21T08:40:44.015994Z",
     "iopub.status.idle": "2022-03-21T08:40:44.021678Z",
     "shell.execute_reply": "2022-03-21T08:40:44.022156Z",
     "shell.execute_reply.started": "2022-03-21T08:27:07.020319Z"
    },
    "papermill": {
     "duration": 0.049783,
     "end_time": "2022-03-21T08:40:44.022324",
     "exception": false,
     "start_time": "2022-03-21T08:40:43.972541",
     "status": "completed"
    },
    "tags": []
   },
   "outputs": [],
   "source": [
    "def categorical_valcount_hist(feature):\n",
    "    print(data[feature].value_counts())\n",
    "    fig, ax = plt.subplots( figsize = (6,6) )\n",
    "    sns.countplot(x=feature, ax=ax, data=data)\n",
    "    plt.show()"
   ]
  },
  {
   "cell_type": "code",
   "execution_count": 13,
   "id": "089ead18",
   "metadata": {
    "execution": {
     "iopub.execute_input": "2022-03-21T08:40:44.103836Z",
     "iopub.status.busy": "2022-03-21T08:40:44.103137Z",
     "iopub.status.idle": "2022-03-21T08:40:44.537237Z",
     "shell.execute_reply": "2022-03-21T08:40:44.536727Z",
     "shell.execute_reply.started": "2022-03-21T08:27:07.028528Z"
    },
    "papermill": {
     "duration": 0.476079,
     "end_time": "2022-03-21T08:40:44.537376",
     "exception": false,
     "start_time": "2022-03-21T08:40:44.061297",
     "status": "completed"
    },
    "tags": []
   },
   "outputs": [
    {
     "name": "stdout",
     "output_type": "stream",
     "text": [
      "single     226272\n",
      "married     25728\n",
      "Name: Married/Single, dtype: int64\n"
     ]
    },
    {
     "data": {
      "image/png": "[encoded data removed]",
      "text/plain": [
       "<Figure size 432x432 with 1 Axes>"
      ]
     },
     "metadata": {},
     "output_type": "display_data"
    }
   ],
   "source": [
    "categorical_valcount_hist(\"Married/Single\")"
   ]
  },
  {
   "cell_type": "code",
   "execution_count": 14,
   "id": "dc4dae41",
   "metadata": {
    "execution": {
     "iopub.execute_input": "2022-03-21T08:40:44.620496Z",
     "iopub.status.busy": "2022-03-21T08:40:44.619834Z",
     "iopub.status.idle": "2022-03-21T08:40:44.950014Z",
     "shell.execute_reply": "2022-03-21T08:40:44.950465Z",
     "shell.execute_reply.started": "2022-03-21T08:27:07.516215Z"
    },
    "papermill": {
     "duration": 0.373362,
     "end_time": "2022-03-21T08:40:44.950646",
     "exception": false,
     "start_time": "2022-03-21T08:40:44.577284",
     "status": "completed"
    },
    "tags": []
   },
   "outputs": [
    {
     "name": "stdout",
     "output_type": "stream",
     "text": [
      "rented          231898\n",
      "owned            12918\n",
      "norent_noown      7184\n",
      "Name: House_Ownership, dtype: int64\n"
     ]
    },
    {
     "data": {
      "image/png": "[encoded data removed]",
      "text/plain": [
       "<Figure size 432x432 with 1 Axes>"
      ]
     },
     "metadata": {},
     "output_type": "display_data"
    }
   ],
   "source": [
    "categorical_valcount_hist(\"House_Ownership\")"
   ]
  },
  {
   "cell_type": "code",
   "execution_count": 15,
   "id": "0d688a0f",
   "metadata": {
    "execution": {
     "iopub.execute_input": "2022-03-21T08:40:45.039339Z",
     "iopub.status.busy": "2022-03-21T08:40:45.038357Z",
     "iopub.status.idle": "2022-03-21T08:40:45.078355Z",
     "shell.execute_reply": "2022-03-21T08:40:45.078827Z",
     "shell.execute_reply.started": "2022-03-21T08:27:08.010000Z"
    },
    "papermill": {
     "duration": 0.085877,
     "end_time": "2022-03-21T08:40:45.079005",
     "exception": false,
     "start_time": "2022-03-21T08:40:44.993128",
     "status": "completed"
    },
    "tags": []
   },
   "outputs": [
    {
     "name": "stdout",
     "output_type": "stream",
     "text": [
      "Total categories in STATE: 29\n",
      "\n",
      "Uttar_Pradesh        28400\n",
      "Maharashtra          25562\n",
      "Andhra_Pradesh       25297\n",
      "West_Bengal          23483\n",
      "Bihar                19780\n",
      "Tamil_Nadu           16537\n",
      "Madhya_Pradesh       14122\n",
      "Karnataka            11855\n",
      "Gujarat              11408\n",
      "Rajasthan             9174\n",
      "Jharkhand             8965\n",
      "Haryana               7890\n",
      "Telangana             7524\n",
      "Assam                 7062\n",
      "Kerala                5805\n",
      "Delhi                 5490\n",
      "Punjab                4720\n",
      "Odisha                4658\n",
      "Chhattisgarh          3834\n",
      "Uttarakhand           1874\n",
      "Jammu_and_Kashmir     1780\n",
      "Puducherry            1433\n",
      "Mizoram                849\n",
      "Manipur                849\n",
      "Himachal_Pradesh       833\n",
      "Tripura                809\n",
      "Uttar_Pradesh[5]       743\n",
      "Chandigarh             656\n",
      "Sikkim                 608\n",
      "Name: STATE, dtype: int64\n"
     ]
    }
   ],
   "source": [
    "print( \"Total categories in STATE:\", len( data[\"STATE\"].unique() ) )\n",
    "print()\n",
    "print( data[\"STATE\"].value_counts() )"
   ]
  },
  {
   "cell_type": "code",
   "execution_count": 16,
   "id": "023c78ed",
   "metadata": {
    "execution": {
     "iopub.execute_input": "2022-03-21T08:40:45.176476Z",
     "iopub.status.busy": "2022-03-21T08:40:45.175579Z",
     "iopub.status.idle": "2022-03-21T08:40:45.208932Z",
     "shell.execute_reply": "2022-03-21T08:40:45.208220Z",
     "shell.execute_reply.started": "2022-03-21T08:27:08.077841Z"
    },
    "papermill": {
     "duration": 0.089116,
     "end_time": "2022-03-21T08:40:45.209142",
     "exception": false,
     "start_time": "2022-03-21T08:40:45.120026",
     "status": "completed"
    },
    "tags": []
   },
   "outputs": [
    {
     "name": "stdout",
     "output_type": "stream",
     "text": [
      "Total categories in Profession: 51\n",
      "\n"
     ]
    },
    {
     "data": {
      "text/plain": [
       "Physician                     5957\n",
       "Statistician                  5806\n",
       "Web_designer                  5397\n",
       "Psychologist                  5390\n",
       "Computer_hardware_engineer    5372\n",
       "Drafter                       5359\n",
       "Magistrate                    5357\n",
       "Fashion_Designer              5304\n",
       "Air_traffic_controller        5281\n",
       "Comedian                      5259\n",
       "Industrial_Engineer           5250\n",
       "Mechanical_engineer           5217\n",
       "Chemical_engineer             5205\n",
       "Technical_writer              5195\n",
       "Hotel_Manager                 5178\n",
       "Financial_Analyst             5167\n",
       "Graphic_Designer              5166\n",
       "Flight_attendant              5128\n",
       "Biomedical_Engineer           5127\n",
       "Secretary                     5061\n",
       "Software_Developer            5053\n",
       "Petroleum_Engineer            5041\n",
       "Police_officer                5035\n",
       "Computer_operator             4990\n",
       "Politician                    4944\n",
       "Microbiologist                4881\n",
       "Technician                    4864\n",
       "Artist                        4861\n",
       "Lawyer                        4818\n",
       "Consultant                    4808\n",
       "Dentist                       4782\n",
       "Scientist                     4781\n",
       "Surgeon                       4772\n",
       "Aviator                       4758\n",
       "Technology_specialist         4737\n",
       "Design_Engineer               4729\n",
       "Surveyor                      4714\n",
       "Geologist                     4672\n",
       "Analyst                       4668\n",
       "Army_officer                  4661\n",
       "Architect                     4657\n",
       "Chef                          4635\n",
       "Librarian                     4628\n",
       "Civil_engineer                4616\n",
       "Designer                      4598\n",
       "Economist                     4573\n",
       "Firefighter                   4507\n",
       "Chartered_Accountant          4493\n",
       "Civil_servant                 4413\n",
       "Official                      4087\n",
       "Engineer                      4048\n",
       "Name: Profession, dtype: int64"
      ]
     },
     "execution_count": 16,
     "metadata": {},
     "output_type": "execute_result"
    }
   ],
   "source": [
    "print( \"Total categories in Profession:\", len( data[\"Profession\"].unique() ) )\n",
    "print()\n",
    "data[\"Profession\"].value_counts()"
   ]
  },
  {
   "cell_type": "markdown",
   "id": "b7c30308",
   "metadata": {
    "papermill": {
     "duration": 0.041838,
     "end_time": "2022-03-21T08:40:45.293589",
     "exception": false,
     "start_time": "2022-03-21T08:40:45.251751",
     "status": "completed"
    },
    "tags": []
   },
   "source": [
    "# Data Analysis"
   ]
  },
  {
   "cell_type": "code",
   "execution_count": 17,
   "id": "1247ebff",
   "metadata": {
    "execution": {
     "iopub.execute_input": "2022-03-21T08:40:45.442949Z",
     "iopub.status.busy": "2022-03-21T08:40:45.441980Z",
     "iopub.status.idle": "2022-03-21T08:40:45.456750Z",
     "shell.execute_reply": "2022-03-21T08:40:45.457505Z",
     "shell.execute_reply.started": "2022-03-21T08:27:08.150011Z"
    },
    "papermill": {
     "duration": 0.122024,
     "end_time": "2022-03-21T08:40:45.457750",
     "exception": false,
     "start_time": "2022-03-21T08:40:45.335726",
     "status": "completed"
    },
    "tags": []
   },
   "outputs": [
    {
     "name": "stdout",
     "output_type": "stream",
     "text": [
      "<class 'pandas.core.frame.DataFrame'>\n",
      "RangeIndex: 252000 entries, 0 to 251999\n",
      "Data columns (total 13 columns):\n",
      " #   Column             Non-Null Count   Dtype \n",
      "---  ------             --------------   ----- \n",
      " 0   Id                 252000 non-null  int64 \n",
      " 1   Income             252000 non-null  int64 \n",
      " 2   Age                252000 non-null  int64 \n",
      " 3   Experience         252000 non-null  int64 \n",
      " 4   Married/Single     252000 non-null  object\n",
      " 5   House_Ownership    252000 non-null  object\n",
      " 6   Car_Ownership      252000 non-null  object\n",
      " 7   Profession         252000 non-null  object\n",
      " 8   CITY               252000 non-null  object\n",
      " 9   STATE              252000 non-null  object\n",
      " 10  CURRENT_JOB_YRS    252000 non-null  int64 \n",
      " 11  CURRENT_HOUSE_YRS  252000 non-null  int64 \n",
      " 12  Risk_Flag          252000 non-null  int64 \n",
      "dtypes: int64(7), object(6)\n",
      "memory usage: 25.0+ MB\n"
     ]
    }
   ],
   "source": [
    "data.info()"
   ]
  },
  {
   "cell_type": "code",
   "execution_count": 18,
   "id": "3c069f33",
   "metadata": {
    "execution": {
     "iopub.execute_input": "2022-03-21T08:40:45.552202Z",
     "iopub.status.busy": "2022-03-21T08:40:45.551192Z",
     "iopub.status.idle": "2022-03-21T08:40:45.778607Z",
     "shell.execute_reply": "2022-03-21T08:40:45.779034Z",
     "shell.execute_reply.started": "2022-03-21T08:27:08.326179Z"
    },
    "papermill": {
     "duration": 0.273853,
     "end_time": "2022-03-21T08:40:45.779203",
     "exception": false,
     "start_time": "2022-03-21T08:40:45.505350",
     "status": "completed"
    },
    "tags": []
   },
   "outputs": [
    {
     "data": {
      "text/plain": [
       "<AxesSubplot:xlabel='Risk_Flag', ylabel='Income'>"
      ]
     },
     "execution_count": 18,
     "metadata": {},
     "output_type": "execute_result"
    },
    {
     "data": {
      "image/png": "[encoded data removed]",
      "text/plain": [
       "<Figure size 432x288 with 1 Axes>"
      ]
     },
     "metadata": {},
     "output_type": "display_data"
    }
   ],
   "source": [
    "sns.boxplot(x =\"Risk_Flag\",y=\"Income\" ,data = data)"
   ]
  },
  {
   "cell_type": "code",
   "execution_count": 19,
   "id": "bca4c13f",
   "metadata": {
    "execution": {
     "iopub.execute_input": "2022-03-21T08:40:45.872177Z",
     "iopub.status.busy": "2022-03-21T08:40:45.871530Z",
     "iopub.status.idle": "2022-03-21T08:40:46.091291Z",
     "shell.execute_reply": "2022-03-21T08:40:46.091848Z",
     "shell.execute_reply.started": "2022-03-21T08:27:08.558751Z"
    },
    "papermill": {
     "duration": 0.269218,
     "end_time": "2022-03-21T08:40:46.092012",
     "exception": false,
     "start_time": "2022-03-21T08:40:45.822794",
     "status": "completed"
    },
    "tags": []
   },
   "outputs": [
    {
     "data": {
      "text/plain": [
       "<AxesSubplot:xlabel='Risk_Flag', ylabel='Age'>"
      ]
     },
     "execution_count": 19,
     "metadata": {},
     "output_type": "execute_result"
    },
    {
     "data": {
      "image/png": "[encoded data removed]",
      "text/plain": [
       "<Figure size 432x288 with 1 Axes>"
      ]
     },
     "metadata": {},
     "output_type": "display_data"
    }
   ],
   "source": [
    "sns.boxplot(x =\"Risk_Flag\",y=\"Age\" ,data = data)"
   ]
  },
  {
   "cell_type": "code",
   "execution_count": 20,
   "id": "964dd59a",
   "metadata": {
    "execution": {
     "iopub.execute_input": "2022-03-21T08:40:46.183647Z",
     "iopub.status.busy": "2022-03-21T08:40:46.182971Z",
     "iopub.status.idle": "2022-03-21T08:40:46.411232Z",
     "shell.execute_reply": "2022-03-21T08:40:46.411663Z",
     "shell.execute_reply.started": "2022-03-21T08:27:08.793195Z"
    },
    "papermill": {
     "duration": 0.275667,
     "end_time": "2022-03-21T08:40:46.411833",
     "exception": false,
     "start_time": "2022-03-21T08:40:46.136166",
     "status": "completed"
    },
    "tags": []
   },
   "outputs": [
    {
     "data": {
      "text/plain": [
       "<AxesSubplot:xlabel='Risk_Flag', ylabel='Experience'>"
      ]
     },
     "execution_count": 20,
     "metadata": {},
     "output_type": "execute_result"
    },
    {
     "data": {
      "image/png": "[encoded data removed]",
      "text/plain": [
       "<Figure size 432x288 with 1 Axes>"
      ]
     },
     "metadata": {},
     "output_type": "display_data"
    }
   ],
   "source": [
    "sns.boxplot(x =\"Risk_Flag\",y=\"Experience\" ,data = data)"
   ]
  },
  {
   "cell_type": "code",
   "execution_count": 21,
   "id": "72673778",
   "metadata": {
    "execution": {
     "iopub.execute_input": "2022-03-21T08:40:46.508313Z",
     "iopub.status.busy": "2022-03-21T08:40:46.507712Z",
     "iopub.status.idle": "2022-03-21T08:40:46.742702Z",
     "shell.execute_reply": "2022-03-21T08:40:46.743182Z",
     "shell.execute_reply.started": "2022-03-21T08:27:09.039742Z"
    },
    "papermill": {
     "duration": 0.2855,
     "end_time": "2022-03-21T08:40:46.743346",
     "exception": false,
     "start_time": "2022-03-21T08:40:46.457846",
     "status": "completed"
    },
    "tags": []
   },
   "outputs": [
    {
     "data": {
      "text/plain": [
       "<AxesSubplot:xlabel='Risk_Flag', ylabel='CURRENT_JOB_YRS'>"
      ]
     },
     "execution_count": 21,
     "metadata": {},
     "output_type": "execute_result"
    },
    {
     "data": {
      "image/png": "[encoded data removed]",
      "text/plain": [
       "<Figure size 432x288 with 1 Axes>"
      ]
     },
     "metadata": {},
     "output_type": "display_data"
    }
   ],
   "source": [
    "sns.boxplot(x =\"Risk_Flag\",y=\"CURRENT_JOB_YRS\" ,data = data)"
   ]
  },
  {
   "cell_type": "code",
   "execution_count": 22,
   "id": "8ea009c0",
   "metadata": {
    "execution": {
     "iopub.execute_input": "2022-03-21T08:40:46.844324Z",
     "iopub.status.busy": "2022-03-21T08:40:46.843720Z",
     "iopub.status.idle": "2022-03-21T08:40:47.074261Z",
     "shell.execute_reply": "2022-03-21T08:40:47.074721Z",
     "shell.execute_reply.started": "2022-03-21T08:27:09.288236Z"
    },
    "papermill": {
     "duration": 0.283115,
     "end_time": "2022-03-21T08:40:47.074898",
     "exception": false,
     "start_time": "2022-03-21T08:40:46.791783",
     "status": "completed"
    },
    "tags": []
   },
   "outputs": [
    {
     "data": {
      "text/plain": [
       "<AxesSubplot:xlabel='Risk_Flag', ylabel='CURRENT_HOUSE_YRS'>"
      ]
     },
     "execution_count": 22,
     "metadata": {},
     "output_type": "execute_result"
    },
    {
     "data": {
      "image/png": "[encoded data removed]",
      "text/plain": [
       "<Figure size 432x288 with 1 Axes>"
      ]
     },
     "metadata": {},
     "output_type": "display_data"
    }
   ],
   "source": [
    "sns.boxplot(x =\"Risk_Flag\",y=\"CURRENT_HOUSE_YRS\" ,data = data)"
   ]
  },
  {
   "cell_type": "code",
   "execution_count": 23,
   "id": "a2155660",
   "metadata": {
    "execution": {
     "iopub.execute_input": "2022-03-21T08:40:47.172811Z",
     "iopub.status.busy": "2022-03-21T08:40:47.172174Z",
     "iopub.status.idle": "2022-03-21T08:40:47.588787Z",
     "shell.execute_reply": "2022-03-21T08:40:47.589275Z",
     "shell.execute_reply.started": "2022-03-21T08:27:09.538033Z"
    },
    "papermill": {
     "duration": 0.467132,
     "end_time": "2022-03-21T08:40:47.589477",
     "exception": false,
     "start_time": "2022-03-21T08:40:47.122345",
     "status": "completed"
    },
    "tags": []
   },
   "outputs": [
    {
     "data": {
      "text/plain": [
       "<AxesSubplot:xlabel='House_Ownership', ylabel='count'>"
      ]
     },
     "execution_count": 23,
     "metadata": {},
     "output_type": "execute_result"
    },
    {
     "data": {
      "image/png": "[encoded data removed]",
      "text/plain": [
       "<Figure size 576x432 with 1 Axes>"
      ]
     },
     "metadata": {},
     "output_type": "display_data"
    }
   ],
   "source": [
    "fig, ax = plt.subplots( figsize = (8, 6) )\n",
    "sns.countplot(x='House_Ownership', hue='Risk_Flag', ax=ax, data=data)"
   ]
  },
  {
   "cell_type": "code",
   "execution_count": 24,
   "id": "d404edca",
   "metadata": {
    "execution": {
     "iopub.execute_input": "2022-03-21T08:40:47.692837Z",
     "iopub.status.busy": "2022-03-21T08:40:47.692168Z",
     "iopub.status.idle": "2022-03-21T08:40:48.092731Z",
     "shell.execute_reply": "2022-03-21T08:40:48.093408Z",
     "shell.execute_reply.started": "2022-03-21T08:27:10.115998Z"
    },
    "papermill": {
     "duration": 0.454442,
     "end_time": "2022-03-21T08:40:48.093583",
     "exception": false,
     "start_time": "2022-03-21T08:40:47.639141",
     "status": "completed"
    },
    "tags": []
   },
   "outputs": [
    {
     "data": {
      "text/plain": [
       "<AxesSubplot:xlabel='Car_Ownership', ylabel='count'>"
      ]
     },
     "execution_count": 24,
     "metadata": {},
     "output_type": "execute_result"
    },
    {
     "data": {
      "image/png": "[encoded data removed]",
      "text/plain": [
       "<Figure size 576x432 with 1 Axes>"
      ]
     },
     "metadata": {},
     "output_type": "display_data"
    }
   ],
   "source": [
    "fig, ax = plt.subplots( figsize = (8,6) )\n",
    "sns.countplot(x='Car_Ownership', hue='Risk_Flag', ax=ax, data=data)"
   ]
  },
  {
   "cell_type": "code",
   "execution_count": 25,
   "id": "709fede6",
   "metadata": {
    "execution": {
     "iopub.execute_input": "2022-03-21T08:40:48.211787Z",
     "iopub.status.busy": "2022-03-21T08:40:48.211069Z",
     "iopub.status.idle": "2022-03-21T08:40:48.601189Z",
     "shell.execute_reply": "2022-03-21T08:40:48.600566Z",
     "shell.execute_reply.started": "2022-03-21T08:27:10.676701Z"
    },
    "papermill": {
     "duration": 0.458159,
     "end_time": "2022-03-21T08:40:48.601332",
     "exception": false,
     "start_time": "2022-03-21T08:40:48.143173",
     "status": "completed"
    },
    "tags": []
   },
   "outputs": [
    {
     "data": {
      "text/plain": [
       "<AxesSubplot:xlabel='Married/Single', ylabel='count'>"
      ]
     },
     "execution_count": 25,
     "metadata": {},
     "output_type": "execute_result"
    },
    {
     "data": {
      "image/png": "[encoded data removed]",
      "text/plain": [
       "<Figure size 576x432 with 1 Axes>"
      ]
     },
     "metadata": {},
     "output_type": "display_data"
    }
   ],
   "source": [
    "fig, ax = plt.subplots( figsize = (8,6) )\n",
    "sns.countplot( x='Married/Single', hue='Risk_Flag', data=data )"
   ]
  },
  {
   "cell_type": "code",
   "execution_count": 26,
   "id": "efd76166",
   "metadata": {
    "execution": {
     "iopub.execute_input": "2022-03-21T08:40:48.731741Z",
     "iopub.status.busy": "2022-03-21T08:40:48.726868Z",
     "iopub.status.idle": "2022-03-21T08:40:49.255879Z",
     "shell.execute_reply": "2022-03-21T08:40:49.255377Z",
     "shell.execute_reply.started": "2022-03-21T08:27:11.237441Z"
    },
    "papermill": {
     "duration": 0.599243,
     "end_time": "2022-03-21T08:40:49.256025",
     "exception": false,
     "start_time": "2022-03-21T08:40:48.656782",
     "status": "completed"
    },
    "tags": []
   },
   "outputs": [
    {
     "data": {
      "text/plain": [
       "<AxesSubplot:xlabel='Risk_Flag', ylabel='CURRENT_JOB_YRS'>"
      ]
     },
     "execution_count": 26,
     "metadata": {},
     "output_type": "execute_result"
    },
    {
     "data": {
      "image/png": "[encoded data removed]",
      "text/plain": [
       "<Figure size 720x576 with 1 Axes>"
      ]
     },
     "metadata": {},
     "output_type": "display_data"
    }
   ],
   "source": [
    "fig, ax = plt.subplots( figsize = (10,8) )\n",
    "sns.boxplot(x = \"Risk_Flag\", y = \"CURRENT_JOB_YRS\", hue='House_Ownership', data = data)"
   ]
  },
  {
   "cell_type": "markdown",
   "id": "a3a3d31b",
   "metadata": {
    "papermill": {
     "duration": 0.052069,
     "end_time": "2022-03-21T08:40:49.360634",
     "exception": false,
     "start_time": "2022-03-21T08:40:49.308565",
     "status": "completed"
    },
    "tags": []
   },
   "source": [
    "# Feature Engineering"
   ]
  },
  {
   "cell_type": "markdown",
   "id": "d6ccb975",
   "metadata": {
    "papermill": {
     "duration": 0.051741,
     "end_time": "2022-03-21T08:40:49.464116",
     "exception": false,
     "start_time": "2022-03-21T08:40:49.412375",
     "status": "completed"
    },
    "tags": []
   },
   "source": [
    "The following encoding will be done to the categorical features:\n",
    "\n",
    "marital_status, car_ownership – binarise\n",
    "\n",
    "house_ownership – one-hot\n",
    "\n",
    "profession, city, state – count encoding"
   ]
  },
  {
   "cell_type": "code",
   "execution_count": 27,
   "id": "2add412a",
   "metadata": {
    "execution": {
     "iopub.execute_input": "2022-03-21T08:40:49.571628Z",
     "iopub.status.busy": "2022-03-21T08:40:49.570910Z",
     "iopub.status.idle": "2022-03-21T08:40:49.920390Z",
     "shell.execute_reply": "2022-03-21T08:40:49.919812Z",
     "shell.execute_reply.started": "2022-03-21T08:30:05.123477Z"
    },
    "papermill": {
     "duration": 0.404253,
     "end_time": "2022-03-21T08:40:49.920559",
     "exception": false,
     "start_time": "2022-03-21T08:40:49.516306",
     "status": "completed"
    },
    "tags": []
   },
   "outputs": [],
   "source": [
    "from sklearn.preprocessing import LabelEncoder\n",
    "from sklearn.preprocessing import OneHotEncoder\n",
    "import category_encoders as ce"
   ]
  },
  {
   "cell_type": "code",
   "execution_count": 28,
   "id": "e5b2598e",
   "metadata": {
    "execution": {
     "iopub.execute_input": "2022-03-21T08:40:50.033866Z",
     "iopub.status.busy": "2022-03-21T08:40:50.033226Z",
     "iopub.status.idle": "2022-03-21T08:40:50.106451Z",
     "shell.execute_reply": "2022-03-21T08:40:50.105876Z",
     "shell.execute_reply.started": "2022-03-21T08:30:15.550923Z"
    },
    "papermill": {
     "duration": 0.133725,
     "end_time": "2022-03-21T08:40:50.106601",
     "exception": false,
     "start_time": "2022-03-21T08:40:49.972876",
     "status": "completed"
    },
    "tags": []
   },
   "outputs": [
    {
     "name": "stdout",
     "output_type": "stream",
     "text": [
      "<class 'pandas.core.frame.DataFrame'>\n",
      "RangeIndex: 252000 entries, 0 to 251999\n",
      "Data columns (total 13 columns):\n",
      " #   Column             Non-Null Count   Dtype \n",
      "---  ------             --------------   ----- \n",
      " 0   Id                 252000 non-null  int64 \n",
      " 1   Income             252000 non-null  int64 \n",
      " 2   Age                252000 non-null  int64 \n",
      " 3   Experience         252000 non-null  int64 \n",
      " 4   Married/Single     252000 non-null  object\n",
      " 5   House_Ownership    252000 non-null  object\n",
      " 6   Car_Ownership      252000 non-null  object\n",
      " 7   Profession         252000 non-null  object\n",
      " 8   CITY               252000 non-null  object\n",
      " 9   STATE              252000 non-null  object\n",
      " 10  CURRENT_JOB_YRS    252000 non-null  int64 \n",
      " 11  CURRENT_HOUSE_YRS  252000 non-null  int64 \n",
      " 12  Risk_Flag          252000 non-null  int64 \n",
      "dtypes: int64(7), object(6)\n",
      "memory usage: 25.0+ MB\n"
     ]
    }
   ],
   "source": [
    "data.info()"
   ]
  },
  {
   "cell_type": "code",
   "execution_count": 29,
   "id": "969dfccc",
   "metadata": {
    "execution": {
     "iopub.execute_input": "2022-03-21T08:40:50.222711Z",
     "iopub.status.busy": "2022-03-21T08:40:50.222048Z",
     "iopub.status.idle": "2022-03-21T08:40:50.333773Z",
     "shell.execute_reply": "2022-03-21T08:40:50.334280Z",
     "shell.execute_reply.started": "2022-03-21T08:30:31.128150Z"
    },
    "papermill": {
     "duration": 0.175512,
     "end_time": "2022-03-21T08:40:50.334481",
     "exception": false,
     "start_time": "2022-03-21T08:40:50.158969",
     "status": "completed"
    },
    "tags": []
   },
   "outputs": [],
   "source": [
    "label_encoder = LabelEncoder()\n",
    "\n",
    "for col in ['Married/Single','Car_Ownership']:\n",
    "    data[col] = label_encoder.fit_transform( data[col] )"
   ]
  },
  {
   "cell_type": "code",
   "execution_count": 30,
   "id": "86dfdb23",
   "metadata": {
    "execution": {
     "iopub.execute_input": "2022-03-21T08:40:50.442276Z",
     "iopub.status.busy": "2022-03-21T08:40:50.441663Z",
     "iopub.status.idle": "2022-03-21T08:40:50.515674Z",
     "shell.execute_reply": "2022-03-21T08:40:50.516119Z",
     "shell.execute_reply.started": "2022-03-21T08:30:58.757698Z"
    },
    "papermill": {
     "duration": 0.129535,
     "end_time": "2022-03-21T08:40:50.516304",
     "exception": false,
     "start_time": "2022-03-21T08:40:50.386769",
     "status": "completed"
    },
    "tags": []
   },
   "outputs": [],
   "source": [
    "onehot_encoder = OneHotEncoder(sparse = False)\n",
    "data['House_Ownership'] = onehot_encoder.fit_transform(data['House_Ownership'].values.reshape(-1, 1) )"
   ]
  },
  {
   "cell_type": "code",
   "execution_count": 31,
   "id": "4b8bd27d",
   "metadata": {
    "execution": {
     "iopub.execute_input": "2022-03-21T08:40:50.625315Z",
     "iopub.status.busy": "2022-03-21T08:40:50.624718Z",
     "iopub.status.idle": "2022-03-21T08:40:51.538337Z",
     "shell.execute_reply": "2022-03-21T08:40:51.537700Z",
     "shell.execute_reply.started": "2022-03-21T08:31:37.824021Z"
    },
    "papermill": {
     "duration": 0.969604,
     "end_time": "2022-03-21T08:40:51.538490",
     "exception": false,
     "start_time": "2022-03-21T08:40:50.568886",
     "status": "completed"
    },
    "tags": []
   },
   "outputs": [],
   "source": [
    "high_card_features = ['Profession', 'CITY', 'STATE']\n",
    "\n",
    "count_encoder = ce.CountEncoder()\n",
    "\n",
    "# Transform the features, rename the columns with the _count suffix, and join to dataframe\n",
    "count_encoded = count_encoder.fit_transform( data[high_card_features] )\n",
    "data = data.join(count_encoded.add_suffix(\"_count\"))"
   ]
  },
  {
   "cell_type": "code",
   "execution_count": 32,
   "id": "48121413",
   "metadata": {
    "execution": {
     "iopub.execute_input": "2022-03-21T08:40:51.646777Z",
     "iopub.status.busy": "2022-03-21T08:40:51.646125Z",
     "iopub.status.idle": "2022-03-21T08:40:51.659697Z",
     "shell.execute_reply": "2022-03-21T08:40:51.660125Z",
     "shell.execute_reply.started": "2022-03-21T08:31:47.095142Z"
    },
    "papermill": {
     "duration": 0.069535,
     "end_time": "2022-03-21T08:40:51.660297",
     "exception": false,
     "start_time": "2022-03-21T08:40:51.590762",
     "status": "completed"
    },
    "tags": []
   },
   "outputs": [
    {
     "data": {
      "text/html": [
       "<div>\n",
       "<style scoped>\n",
       "    .dataframe tbody tr th:only-of-type {\n",
       "        vertical-align: middle;\n",
       "    }\n",
       "\n",
       "    .dataframe tbody tr th {\n",
       "        vertical-align: top;\n",
       "    }\n",
       "\n",
       "    .dataframe thead th {\n",
       "        text-align: right;\n",
       "    }\n",
       "</style>\n",
       "<table border=\"1\" class=\"dataframe\">\n",
       "  <thead>\n",
       "    <tr style=\"text-align: right;\">\n",
       "      <th></th>\n",
       "      <th>Id</th>\n",
       "      <th>Income</th>\n",
       "      <th>Age</th>\n",
       "      <th>Experience</th>\n",
       "      <th>Married/Single</th>\n",
       "      <th>House_Ownership</th>\n",
       "      <th>Car_Ownership</th>\n",
       "      <th>Profession</th>\n",
       "      <th>CITY</th>\n",
       "      <th>STATE</th>\n",
       "      <th>CURRENT_JOB_YRS</th>\n",
       "      <th>CURRENT_HOUSE_YRS</th>\n",
       "      <th>Risk_Flag</th>\n",
       "      <th>Profession_count</th>\n",
       "      <th>CITY_count</th>\n",
       "      <th>STATE_count</th>\n",
       "    </tr>\n",
       "  </thead>\n",
       "  <tbody>\n",
       "    <tr>\n",
       "      <th>0</th>\n",
       "      <td>1</td>\n",
       "      <td>1303834</td>\n",
       "      <td>23</td>\n",
       "      <td>3</td>\n",
       "      <td>1</td>\n",
       "      <td>0.0</td>\n",
       "      <td>0</td>\n",
       "      <td>Mechanical_engineer</td>\n",
       "      <td>Rewa</td>\n",
       "      <td>Madhya_Pradesh</td>\n",
       "      <td>3</td>\n",
       "      <td>13</td>\n",
       "      <td>0</td>\n",
       "      <td>5217</td>\n",
       "      <td>798</td>\n",
       "      <td>14122</td>\n",
       "    </tr>\n",
       "    <tr>\n",
       "      <th>1</th>\n",
       "      <td>2</td>\n",
       "      <td>7574516</td>\n",
       "      <td>40</td>\n",
       "      <td>10</td>\n",
       "      <td>1</td>\n",
       "      <td>0.0</td>\n",
       "      <td>0</td>\n",
       "      <td>Software_Developer</td>\n",
       "      <td>Parbhani</td>\n",
       "      <td>Maharashtra</td>\n",
       "      <td>9</td>\n",
       "      <td>13</td>\n",
       "      <td>0</td>\n",
       "      <td>5053</td>\n",
       "      <td>849</td>\n",
       "      <td>25562</td>\n",
       "    </tr>\n",
       "    <tr>\n",
       "      <th>2</th>\n",
       "      <td>3</td>\n",
       "      <td>3991815</td>\n",
       "      <td>66</td>\n",
       "      <td>4</td>\n",
       "      <td>0</td>\n",
       "      <td>0.0</td>\n",
       "      <td>0</td>\n",
       "      <td>Technical_writer</td>\n",
       "      <td>Alappuzha</td>\n",
       "      <td>Kerala</td>\n",
       "      <td>4</td>\n",
       "      <td>10</td>\n",
       "      <td>0</td>\n",
       "      <td>5195</td>\n",
       "      <td>688</td>\n",
       "      <td>5805</td>\n",
       "    </tr>\n",
       "    <tr>\n",
       "      <th>3</th>\n",
       "      <td>4</td>\n",
       "      <td>6256451</td>\n",
       "      <td>41</td>\n",
       "      <td>2</td>\n",
       "      <td>1</td>\n",
       "      <td>0.0</td>\n",
       "      <td>1</td>\n",
       "      <td>Software_Developer</td>\n",
       "      <td>Bhubaneswar</td>\n",
       "      <td>Odisha</td>\n",
       "      <td>2</td>\n",
       "      <td>12</td>\n",
       "      <td>1</td>\n",
       "      <td>5053</td>\n",
       "      <td>607</td>\n",
       "      <td>4658</td>\n",
       "    </tr>\n",
       "    <tr>\n",
       "      <th>4</th>\n",
       "      <td>5</td>\n",
       "      <td>5768871</td>\n",
       "      <td>47</td>\n",
       "      <td>11</td>\n",
       "      <td>1</td>\n",
       "      <td>0.0</td>\n",
       "      <td>0</td>\n",
       "      <td>Civil_servant</td>\n",
       "      <td>Tiruchirappalli[10]</td>\n",
       "      <td>Tamil_Nadu</td>\n",
       "      <td>3</td>\n",
       "      <td>14</td>\n",
       "      <td>1</td>\n",
       "      <td>4413</td>\n",
       "      <td>809</td>\n",
       "      <td>16537</td>\n",
       "    </tr>\n",
       "  </tbody>\n",
       "</table>\n",
       "</div>"
      ],
      "text/plain": [
       "   Id   Income  Age  Experience  Married/Single  House_Ownership  \\\n",
       "0   1  1303834   23           3               1              0.0   \n",
       "1   2  7574516   40          10               1              0.0   \n",
       "2   3  3991815   66           4               0              0.0   \n",
       "3   4  6256451   41           2               1              0.0   \n",
       "4   5  5768871   47          11               1              0.0   \n",
       "\n",
       "   Car_Ownership           Profession                 CITY           STATE  \\\n",
       "0              0  Mechanical_engineer                 Rewa  Madhya_Pradesh   \n",
       "1              0   Software_Developer             Parbhani     Maharashtra   \n",
       "2              0     Technical_writer            Alappuzha          Kerala   \n",
       "3              1   Software_Developer          Bhubaneswar          Odisha   \n",
       "4              0        Civil_servant  Tiruchirappalli[10]      Tamil_Nadu   \n",
       "\n",
       "   CURRENT_JOB_YRS  CURRENT_HOUSE_YRS  Risk_Flag  Profession_count  \\\n",
       "0                3                 13          0              5217   \n",
       "1                9                 13          0              5053   \n",
       "2                4                 10          0              5195   \n",
       "3                2                 12          1              5053   \n",
       "4                3                 14          1              4413   \n",
       "\n",
       "   CITY_count  STATE_count  \n",
       "0         798        14122  \n",
       "1         849        25562  \n",
       "2         688         5805  \n",
       "3         607         4658  \n",
       "4         809        16537  "
      ]
     },
     "execution_count": 32,
     "metadata": {},
     "output_type": "execute_result"
    }
   ],
   "source": [
    "data.head()"
   ]
  },
  {
   "cell_type": "code",
   "execution_count": 33,
   "id": "37f617e1",
   "metadata": {
    "execution": {
     "iopub.execute_input": "2022-03-21T08:40:51.770817Z",
     "iopub.status.busy": "2022-03-21T08:40:51.770133Z",
     "iopub.status.idle": "2022-03-21T08:40:51.804823Z",
     "shell.execute_reply": "2022-03-21T08:40:51.805346Z",
     "shell.execute_reply.started": "2022-03-21T08:33:20.476900Z"
    },
    "papermill": {
     "duration": 0.09196,
     "end_time": "2022-03-21T08:40:51.805569",
     "exception": false,
     "start_time": "2022-03-21T08:40:51.713609",
     "status": "completed"
    },
    "tags": []
   },
   "outputs": [],
   "source": [
    "data= data.drop(labels=['Profession', 'CITY', 'STATE'], axis=1)"
   ]
  },
  {
   "cell_type": "code",
   "execution_count": 34,
   "id": "282424de",
   "metadata": {
    "execution": {
     "iopub.execute_input": "2022-03-21T08:40:51.915241Z",
     "iopub.status.busy": "2022-03-21T08:40:51.914623Z",
     "iopub.status.idle": "2022-03-21T08:40:51.926858Z",
     "shell.execute_reply": "2022-03-21T08:40:51.927311Z",
     "shell.execute_reply.started": "2022-03-21T08:33:28.549014Z"
    },
    "papermill": {
     "duration": 0.06854,
     "end_time": "2022-03-21T08:40:51.927511",
     "exception": false,
     "start_time": "2022-03-21T08:40:51.858971",
     "status": "completed"
    },
    "tags": []
   },
   "outputs": [
    {
     "data": {
      "text/html": [
       "<div>\n",
       "<style scoped>\n",
       "    .dataframe tbody tr th:only-of-type {\n",
       "        vertical-align: middle;\n",
       "    }\n",
       "\n",
       "    .dataframe tbody tr th {\n",
       "        vertical-align: top;\n",
       "    }\n",
       "\n",
       "    .dataframe thead th {\n",
       "        text-align: right;\n",
       "    }\n",
       "</style>\n",
       "<table border=\"1\" class=\"dataframe\">\n",
       "  <thead>\n",
       "    <tr style=\"text-align: right;\">\n",
       "      <th></th>\n",
       "      <th>Id</th>\n",
       "      <th>Income</th>\n",
       "      <th>Age</th>\n",
       "      <th>Experience</th>\n",
       "      <th>Married/Single</th>\n",
       "      <th>House_Ownership</th>\n",
       "      <th>Car_Ownership</th>\n",
       "      <th>CURRENT_JOB_YRS</th>\n",
       "      <th>CURRENT_HOUSE_YRS</th>\n",
       "      <th>Risk_Flag</th>\n",
       "      <th>Profession_count</th>\n",
       "      <th>CITY_count</th>\n",
       "      <th>STATE_count</th>\n",
       "    </tr>\n",
       "  </thead>\n",
       "  <tbody>\n",
       "    <tr>\n",
       "      <th>0</th>\n",
       "      <td>1</td>\n",
       "      <td>1303834</td>\n",
       "      <td>23</td>\n",
       "      <td>3</td>\n",
       "      <td>1</td>\n",
       "      <td>0.0</td>\n",
       "      <td>0</td>\n",
       "      <td>3</td>\n",
       "      <td>13</td>\n",
       "      <td>0</td>\n",
       "      <td>5217</td>\n",
       "      <td>798</td>\n",
       "      <td>14122</td>\n",
       "    </tr>\n",
       "    <tr>\n",
       "      <th>1</th>\n",
       "      <td>2</td>\n",
       "      <td>7574516</td>\n",
       "      <td>40</td>\n",
       "      <td>10</td>\n",
       "      <td>1</td>\n",
       "      <td>0.0</td>\n",
       "      <td>0</td>\n",
       "      <td>9</td>\n",
       "      <td>13</td>\n",
       "      <td>0</td>\n",
       "      <td>5053</td>\n",
       "      <td>849</td>\n",
       "      <td>25562</td>\n",
       "    </tr>\n",
       "    <tr>\n",
       "      <th>2</th>\n",
       "      <td>3</td>\n",
       "      <td>3991815</td>\n",
       "      <td>66</td>\n",
       "      <td>4</td>\n",
       "      <td>0</td>\n",
       "      <td>0.0</td>\n",
       "      <td>0</td>\n",
       "      <td>4</td>\n",
       "      <td>10</td>\n",
       "      <td>0</td>\n",
       "      <td>5195</td>\n",
       "      <td>688</td>\n",
       "      <td>5805</td>\n",
       "    </tr>\n",
       "    <tr>\n",
       "      <th>3</th>\n",
       "      <td>4</td>\n",
       "      <td>6256451</td>\n",
       "      <td>41</td>\n",
       "      <td>2</td>\n",
       "      <td>1</td>\n",
       "      <td>0.0</td>\n",
       "      <td>1</td>\n",
       "      <td>2</td>\n",
       "      <td>12</td>\n",
       "      <td>1</td>\n",
       "      <td>5053</td>\n",
       "      <td>607</td>\n",
       "      <td>4658</td>\n",
       "    </tr>\n",
       "    <tr>\n",
       "      <th>4</th>\n",
       "      <td>5</td>\n",
       "      <td>5768871</td>\n",
       "      <td>47</td>\n",
       "      <td>11</td>\n",
       "      <td>1</td>\n",
       "      <td>0.0</td>\n",
       "      <td>0</td>\n",
       "      <td>3</td>\n",
       "      <td>14</td>\n",
       "      <td>1</td>\n",
       "      <td>4413</td>\n",
       "      <td>809</td>\n",
       "      <td>16537</td>\n",
       "    </tr>\n",
       "  </tbody>\n",
       "</table>\n",
       "</div>"
      ],
      "text/plain": [
       "   Id   Income  Age  Experience  Married/Single  House_Ownership  \\\n",
       "0   1  1303834   23           3               1              0.0   \n",
       "1   2  7574516   40          10               1              0.0   \n",
       "2   3  3991815   66           4               0              0.0   \n",
       "3   4  6256451   41           2               1              0.0   \n",
       "4   5  5768871   47          11               1              0.0   \n",
       "\n",
       "   Car_Ownership  CURRENT_JOB_YRS  CURRENT_HOUSE_YRS  Risk_Flag  \\\n",
       "0              0                3                 13          0   \n",
       "1              0                9                 13          0   \n",
       "2              0                4                 10          0   \n",
       "3              1                2                 12          1   \n",
       "4              0                3                 14          1   \n",
       "\n",
       "   Profession_count  CITY_count  STATE_count  \n",
       "0              5217         798        14122  \n",
       "1              5053         849        25562  \n",
       "2              5195         688         5805  \n",
       "3              5053         607         4658  \n",
       "4              4413         809        16537  "
      ]
     },
     "execution_count": 34,
     "metadata": {},
     "output_type": "execute_result"
    }
   ],
   "source": [
    "data.head()"
   ]
  },
  {
   "cell_type": "markdown",
   "id": "65e87b3a",
   "metadata": {
    "papermill": {
     "duration": 0.053639,
     "end_time": "2022-03-21T08:40:52.035207",
     "exception": false,
     "start_time": "2022-03-21T08:40:51.981568",
     "status": "completed"
    },
    "tags": []
   },
   "source": [
    "# Splitting the data into train and test splits"
   ]
  },
  {
   "cell_type": "code",
   "execution_count": 35,
   "id": "67df7ee8",
   "metadata": {
    "execution": {
     "iopub.execute_input": "2022-03-21T08:40:52.148284Z",
     "iopub.status.busy": "2022-03-21T08:40:52.147652Z",
     "iopub.status.idle": "2022-03-21T08:40:52.162248Z",
     "shell.execute_reply": "2022-03-21T08:40:52.162813Z",
     "shell.execute_reply.started": "2022-03-21T08:36:38.554720Z"
    },
    "papermill": {
     "duration": 0.072344,
     "end_time": "2022-03-21T08:40:52.163007",
     "exception": false,
     "start_time": "2022-03-21T08:40:52.090663",
     "status": "completed"
    },
    "tags": []
   },
   "outputs": [],
   "source": [
    "x = data.drop(\"Risk_Flag\", axis=1)\n",
    "y = data[\"Risk_Flag\"]"
   ]
  },
  {
   "cell_type": "code",
   "execution_count": 36,
   "id": "3e604656",
   "metadata": {
    "execution": {
     "iopub.execute_input": "2022-03-21T08:40:52.274766Z",
     "iopub.status.busy": "2022-03-21T08:40:52.273797Z",
     "iopub.status.idle": "2022-03-21T08:40:52.437893Z",
     "shell.execute_reply": "2022-03-21T08:40:52.437279Z",
     "shell.execute_reply.started": "2022-03-21T08:36:50.416922Z"
    },
    "papermill": {
     "duration": 0.220692,
     "end_time": "2022-03-21T08:40:52.438052",
     "exception": false,
     "start_time": "2022-03-21T08:40:52.217360",
     "status": "completed"
    },
    "tags": []
   },
   "outputs": [],
   "source": [
    "from sklearn.model_selection import train_test_split\n",
    "x_train, x_test, y_train, y_test = train_test_split(x, y, test_size = 0.2, stratify = y, random_state = 7)"
   ]
  },
  {
   "cell_type": "markdown",
   "id": "0d8b9149",
   "metadata": {
    "papermill": {
     "duration": 0.054208,
     "end_time": "2022-03-21T08:40:52.550933",
     "exception": false,
     "start_time": "2022-03-21T08:40:52.496725",
     "status": "completed"
    },
    "tags": []
   },
   "source": [
    "# Random Forest Classifier"
   ]
  },
  {
   "cell_type": "code",
   "execution_count": 37,
   "id": "dd75f6c1",
   "metadata": {
    "execution": {
     "iopub.execute_input": "2022-03-21T08:40:52.663066Z",
     "iopub.status.busy": "2022-03-21T08:40:52.662321Z",
     "iopub.status.idle": "2022-03-21T08:40:53.020042Z",
     "shell.execute_reply": "2022-03-21T08:40:53.019457Z",
     "shell.execute_reply.started": "2022-03-21T08:37:22.945794Z"
    },
    "papermill": {
     "duration": 0.415849,
     "end_time": "2022-03-21T08:40:53.020198",
     "exception": false,
     "start_time": "2022-03-21T08:40:52.604349",
     "status": "completed"
    },
    "tags": []
   },
   "outputs": [],
   "source": [
    "from sklearn.ensemble import RandomForestClassifier\n",
    "from imblearn.over_sampling import SMOTE\n",
    "from imblearn.pipeline import Pipeline\n"
   ]
  },
  {
   "cell_type": "code",
   "execution_count": 38,
   "id": "d2f420d6",
   "metadata": {
    "execution": {
     "iopub.execute_input": "2022-03-21T08:40:53.135500Z",
     "iopub.status.busy": "2022-03-21T08:40:53.134504Z",
     "iopub.status.idle": "2022-03-21T08:42:29.766740Z",
     "shell.execute_reply": "2022-03-21T08:42:29.766044Z",
     "shell.execute_reply.started": "2022-03-21T08:37:51.916581Z"
    },
    "papermill": {
     "duration": 96.692121,
     "end_time": "2022-03-21T08:42:29.766902",
     "exception": false,
     "start_time": "2022-03-21T08:40:53.074781",
     "status": "completed"
    },
    "tags": []
   },
   "outputs": [],
   "source": [
    "rf_clf = RandomForestClassifier(criterion='gini', bootstrap=True, random_state=100)\n",
    "\n",
    "smote_sampler = SMOTE(random_state=9)\n",
    "\n",
    "pipeline = Pipeline(steps = [['smote', smote_sampler],\n",
    "                             ['classifier', rf_clf]])\n",
    "\n",
    "pipeline.fit(x_train, y_train)\n",
    "\n",
    "y_pred = pipeline.predict(x_test)"
   ]
  },
  {
   "cell_type": "code",
   "execution_count": 39,
   "id": "d55376ae",
   "metadata": {
    "execution": {
     "iopub.execute_input": "2022-03-21T08:42:29.881703Z",
     "iopub.status.busy": "2022-03-21T08:42:29.881005Z",
     "iopub.status.idle": "2022-03-21T08:42:29.948358Z",
     "shell.execute_reply": "2022-03-21T08:42:29.947902Z",
     "shell.execute_reply.started": "2022-03-21T08:40:03.723492Z"
    },
    "papermill": {
     "duration": 0.126446,
     "end_time": "2022-03-21T08:42:29.948515",
     "exception": false,
     "start_time": "2022-03-21T08:42:29.822069",
     "status": "completed"
    },
    "tags": []
   },
   "outputs": [
    {
     "name": "stdout",
     "output_type": "stream",
     "text": [
      "-------------------------TEST SCORES-----------------------\n",
      "Recall: 54.1378\n",
      "Precision: 54.3306\n",
      "F1-Score: 54.234\n",
      "Accuracy score: 88.7619\n",
      "AUC Score: 73.8778\n"
     ]
    }
   ],
   "source": [
    "from sklearn.metrics import confusion_matrix, precision_score, recall_score, f1_score, accuracy_score, roc_auc_score\n",
    "\n",
    "print(\"-------------------------TEST SCORES-----------------------\") \n",
    "print(f\"Recall: { round(recall_score(y_test, y_pred)*100, 4) }\")\n",
    "print(f\"Precision: { round(precision_score(y_test, y_pred)*100, 4) }\")\n",
    "print(f\"F1-Score: { round(f1_score(y_test, y_pred)*100, 4) }\")\n",
    "print(f\"Accuracy score: { round(accuracy_score(y_test, y_pred)*100, 4) }\")\n",
    "print(f\"AUC Score: { round(roc_auc_score(y_test, y_pred)*100, 4) }\")"
   ]
  },
  {
   "cell_type": "code",
   "execution_count": null,
   "id": "9b44dbc1",
   "metadata": {
    "papermill": {
     "duration": 0.069056,
     "end_time": "2022-03-21T08:42:30.073357",
     "exception": false,
     "start_time": "2022-03-21T08:42:30.004301",
     "status": "completed"
    },
    "tags": []
   },
   "outputs": [],
   "source": []
  }
 ],
 "metadata": {
  "kernelspec": {
   "display_name": "Python 3",
   "language": "python",
   "name": "python3"
  },
  "language_info": {
   "codemirror_mode": {
    "name": "ipython",
    "version": 3
   },
   "file_extension": ".py",
   "mimetype": "text/x-python",
   "name": "python",
   "nbconvert_exporter": "python",
   "pygments_lexer": "ipython3",
   "version": "3.7.12"
  },
  "papermill": {
   "default_parameters": {},
   "duration": 120.788947,
   "end_time": "2022-03-21T08:42:30.949385",
   "environment_variables": {},
   "exception": null,
   "input_path": "__notebook__.ipynb",
   "output_path": "__notebook__.ipynb",
   "parameters": {},
   "start_time": "2022-03-21T08:40:30.160438",
   "version": "2.3.3"
  }
 },
 "nbformat": 4,
 "nbformat_minor": 5
}
